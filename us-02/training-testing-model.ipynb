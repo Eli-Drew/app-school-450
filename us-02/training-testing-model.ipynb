{
 "cells": [
  {
   "cell_type": "code",
   "execution_count": 20,
   "metadata": {
    "scrolled": true
   },
   "outputs": [],
   "source": [
    "import tensorflow as tf\n",
    "import csv"
   ]
  },
  {
   "cell_type": "code",
   "execution_count": 21,
   "metadata": {},
   "outputs": [],
   "source": [
    "from tensorflow.keras.preprocessing.text import Tokenizer\n",
    "from tensorflow.keras.preprocessing.sequence import pad_sequences"
   ]
  },
  {
   "cell_type": "code",
   "execution_count": 22,
   "metadata": {},
   "outputs": [],
   "source": [
    "data = []\n",
    "path = \"C:\\\\Users\\\\Drew\\\\Documents\\\\app-school-450\\\\data-sets\\\\trip-test.csv\"\n",
    "with open(path, newline = '', encoding = 'utf-8') as csvFile:\n",
    "    csvReader = csv.reader(csvFile, delimiter='|')\n",
    "    for row in csvReader:\n",
    "        currentRow = row[0]\n",
    "        if len(currentRow) > 500:\n",
    "            currentRow = currentRow[0:500]\n",
    "        data.append(currentRow)"
   ]
  },
  {
   "cell_type": "code",
   "execution_count": 23,
   "metadata": {
    "scrolled": true
   },
   "outputs": [],
   "source": [
    "trainingSize = 1000\n",
    "trainingSet = data[0:trainingSize]\n",
    "testSet = data[trainingSize:]"
   ]
  },
  {
   "cell_type": "code",
   "execution_count": 24,
   "metadata": {},
   "outputs": [],
   "source": [
    "# only making the word index after the training set. \n",
    "# test set should not influence the word_index. whole point of testing.\n",
    "\n",
    "tokenizer = Tokenizer(num_words = 100000, oov_token=\"<OOV>\")\n",
    "tokenizer.fit_on_texts(trainingSet)\n",
    "word_index = tokenizer.word_index\n",
    "# word_index # prints the word index"
   ]
  },
  {
   "cell_type": "code",
   "execution_count": 25,
   "metadata": {},
   "outputs": [],
   "source": [
    "# still create squences for the training set.\n",
    "# only make sequences for the test set. don't add testSet tokens to word_index\n",
    "trainingSequences = tokenizer.texts_to_sequences(trainingSet)\n",
    "paddedTrainingSequences = pad_sequences(trainingSequences, maxlen = 500)\n",
    "testingSequences = tokenizer.texts_to_sequences(testSet)\n",
    "paddedTestingSequences = pad_sequences(testingSequences, maxlen = 500)"
   ]
  },
  {
   "cell_type": "code",
   "execution_count": 26,
   "metadata": {},
   "outputs": [],
   "source": [
    "# This is where US-03 T11 will happen. \n",
    "# TODO\n",
    "# Convert "
   ]
  }
 ],
 "metadata": {
  "kernelspec": {
   "display_name": "Python 3",
   "language": "python",
   "name": "python3"
  },
  "language_info": {
   "codemirror_mode": {
    "name": "ipython",
    "version": 3
   },
   "file_extension": ".py",
   "mimetype": "text/x-python",
   "name": "python",
   "nbconvert_exporter": "python",
   "pygments_lexer": "ipython3",
   "version": "3.8.3"
  }
 },
 "nbformat": 4,
 "nbformat_minor": 4
}
