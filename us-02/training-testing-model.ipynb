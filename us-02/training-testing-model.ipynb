{
 "cells": [
  {
   "cell_type": "code",
   "execution_count": null,
   "metadata": {
    "scrolled": true
   },
   "outputs": [],
   "source": [
    "import os\n",
    "import csv\n",
    "import numpy as np\n",
    "import tensorflow as tf"
   ]
  },
  {
   "cell_type": "code",
   "execution_count": null,
   "metadata": {},
   "outputs": [],
   "source": [
    "from tensorflow.keras.preprocessing.text import Tokenizer\n",
    "from tensorflow.keras.preprocessing.sequence import pad_sequences\n",
    "from keras.models import Sequential\n",
    "from tensorflow.keras.layers import Embedding, GlobalAveragePooling1D, Dense\n",
    "from tensorflow.python.keras.layers.core import Flatten"
   ]
  },
  {
   "cell_type": "code",
   "execution_count": null,
   "metadata": {},
   "outputs": [],
   "source": [
    "max_response_length = 500\n",
    "vocab_size = 100000\n",
    "vector_size = 10 # (?) not sure what a good vector size would be"
   ]
  },
  {
   "cell_type": "code",
   "execution_count": null,
   "metadata": {},
   "outputs": [],
   "source": [
    "data = []\n",
    "os.path.join(os.getcwd(), 'data-sets', 'trip-test.csv')\n",
    "with open(os.path, newline = '', encoding = 'utf-8') as csv_file:\n",
    "    csv_reader = csv.reader(csv_file, delimiter='|')\n",
    "    for row in csv_reader:\n",
    "        current_row = row[0]\n",
    "        if len(current_row) > max_response_length:\n",
    "            current_row = current_row[0:max_response_length]\n",
    "        data.append(current_row)"
   ]
  },
  {
   "cell_type": "code",
   "execution_count": null,
   "metadata": {
    "scrolled": true
   },
   "outputs": [],
   "source": [
    "training_size = len(list(csv_reader)) / 2\n",
    "training_set = data[0:training_size]\n",
    "testing_set = data[training_size:]"
   ]
  },
  {
   "cell_type": "code",
   "execution_count": null,
   "metadata": {},
   "outputs": [],
   "source": [
    "# only making the word index after the training set. \n",
    "# test set should not influence the word_index. whole point of testing.\n",
    "\n",
    "tokenizer = Tokenizer(num_words = vocab_size, oov_token=\"<OOV>\")\n",
    "tokenizer.fit_on_texts(training_set)\n",
    "word_index = tokenizer.word_index\n",
    "# word_index # prints the word index"
   ]
  },
  {
   "cell_type": "code",
   "execution_count": null,
   "metadata": {},
   "outputs": [],
   "source": [
    "# still create squences for the training set.\n",
    "# only make sequences for the test set. don't add testSet tokens to word_index\n",
    "training_sequences = tokenizer.texts_to_sequences(training_set)\n",
    "padded_training_sequences = pad_sequences(training_sequences, maxlen = max_response_length)\n",
    "testing_sequences = tokenizer.texts_to_sequences(testing_set)\n",
    "padded_testing_sequences = pad_sequences(testing_sequences, maxlen = max_response_length)"
   ]
  },
  {
   "cell_type": "code",
   "execution_count": null,
   "metadata": {},
   "outputs": [],
   "source": [
    "# Convert sequence arrays to numPy arrays\n",
    "padded_training_sequences = np.array(padded_training_sequences)\n",
    "padded_testing_sequences = np.array(padded_testing_sequences)"
   ]
  },
  {
   "cell_type": "code",
   "execution_count": null,
   "metadata": {},
   "outputs": [],
   "source": [
    "# Building the model\n",
    "model = Sequential()\n",
    "model.add(Embedding(vocab_size, vector_size, input_length=max_response_length, name=\"embedding\"))\n",
    "model.add(GlobalAveragePooling1D())\n",
    "model.add(Flatten())\n",
    "model.add(Dense(1, activation=\"sigmoid\"))\n",
    "model.compile(optimizer=\"adam\", loss=\"binary_crossentropy\", metrics=[\"accuracy\"])"
   ]
  },
  {
   "cell_type": "code",
   "execution_count": null,
   "metadata": {},
   "outputs": [],
   "source": [
    "# Train the model\n",
    "num_epochs = 30\n",
    "model.fit(padded_training_sequences, training_set, epochs=num_epochs,\n",
    "            validation_data=(padded_testing_sequences, testing_set), verbose=2)"
   ]
  },
  {
   "cell_type": "code",
   "execution_count": null,
   "metadata": {},
   "outputs": [],
   "source": [
    "# We'll figure out when to add this in later.\n",
    "with open('wordindex.txt', 'w') as file:\n",
    "    file.writelines('{}'.format(word_index))"
   ]
  }
 ],
 "metadata": {
  "interpreter": {
   "hash": "be639d2a3515f2a03c39ebf931285c0655992ea674b69f67588d39ca9a3e703a"
  },
  "kernelspec": {
   "display_name": "Python 3.7.7 64-bit",
   "name": "python3"
  },
  "language_info": {
   "codemirror_mode": {
    "name": "ipython",
    "version": 3
   },
   "file_extension": ".py",
   "mimetype": "text/x-python",
   "name": "python",
   "nbconvert_exporter": "python",
   "pygments_lexer": "ipython3",
   "version": "3.7.7"
  }
 },
 "nbformat": 4,
 "nbformat_minor": 4
}
